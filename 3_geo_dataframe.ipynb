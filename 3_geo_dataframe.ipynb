{
 "cells": [
  {
   "cell_type": "markdown",
   "metadata": {},
   "source": [
    "### GeoDataframe / Carto"
   ]
  },
  {
   "cell_type": "markdown",
   "metadata": {},
   "source": [
    "![mapa](images/geo_portada.jpg)"
   ]
  },
  {
   "cell_type": "code",
   "execution_count": 1,
   "metadata": {},
   "outputs": [],
   "source": [
    "import requests\n",
    "import json\n",
    "from dotenv import load_dotenv\n",
    "import os\n",
    "import pandas as pd"
   ]
  },
  {
   "cell_type": "code",
   "execution_count": 2,
   "metadata": {},
   "outputs": [
    {
     "data": {
      "text/plain": [
       "True"
      ]
     },
     "execution_count": 2,
     "metadata": {},
     "output_type": "execute_result"
    }
   ],
   "source": [
    "load_dotenv()"
   ]
  },
  {
   "cell_type": "markdown",
   "metadata": {},
   "source": [
    "Hay APIS para un montón de cosas, aquí os dejo GEOCODE\n",
    "- https://geocode.xyz/"
   ]
  },
  {
   "cell_type": "code",
   "execution_count": 3,
   "metadata": {},
   "outputs": [],
   "source": [
    "donde = \"madrid\"\n",
    "def geocode(address):\n",
    "    \"\"\"\n",
    "    Saca las coordenadas de una dirección que le des.\n",
    "    \"\"\"\n",
    "    data = requests.get(f\"https://geocode.xyz/{address}?json=1\").json()\n",
    "    try:\n",
    "        return {\n",
    "            \"type\":\"Point\",\n",
    "            \"coordinates\":[float(data[\"longt\"]),float(data[\"latt\"])]}\n",
    "    except:\n",
    "        return data"
   ]
  },
  {
   "cell_type": "code",
   "execution_count": 7,
   "metadata": {},
   "outputs": [
    {
     "ename": "NameError",
     "evalue": "name 'address' is not defined",
     "output_type": "error",
     "traceback": [
      "\u001b[1;31m---------------------------------------------------------------------------\u001b[0m",
      "\u001b[1;31mNameError\u001b[0m                                 Traceback (most recent call last)",
      "\u001b[1;32m<ipython-input-7-dfd6579cb608>\u001b[0m in \u001b[0;36m<module>\u001b[1;34m\u001b[0m\n\u001b[1;32m----> 1\u001b[1;33m \u001b[0mdata\u001b[0m \u001b[1;33m=\u001b[0m \u001b[0mrequests\u001b[0m\u001b[1;33m.\u001b[0m\u001b[0mget\u001b[0m\u001b[1;33m(\u001b[0m\u001b[1;34mf\"https://geocode.xyz/{address}?json=1\"\u001b[0m\u001b[1;33m)\u001b[0m\u001b[1;33m.\u001b[0m\u001b[0mjson\u001b[0m\u001b[1;33m(\u001b[0m\u001b[1;33m)\u001b[0m\u001b[1;33m\u001b[0m\u001b[1;33m\u001b[0m\u001b[0m\n\u001b[0m\u001b[0;32m      2\u001b[0m \u001b[0mdata\u001b[0m\u001b[1;33m\u001b[0m\u001b[1;33m\u001b[0m\u001b[0m\n",
      "\u001b[1;31mNameError\u001b[0m: name 'address' is not defined"
     ]
    }
   ],
   "source": [
    "data = requests.get(f\"https://geocode.xyz/{address}?json=1\").json()\n",
    "data"
   ]
  },
  {
   "cell_type": "code",
   "execution_count": 5,
   "metadata": {},
   "outputs": [],
   "source": [
    "madrid = geocode(donde)"
   ]
  },
  {
   "cell_type": "code",
   "execution_count": 6,
   "metadata": {},
   "outputs": [
    {
     "data": {
      "text/plain": [
       "{'type': 'Point', 'coordinates': [-3.6793, 40.42955]}"
      ]
     },
     "execution_count": 6,
     "metadata": {},
     "output_type": "execute_result"
    }
   ],
   "source": [
    "#longitud - latitud\n",
    "madrid"
   ]
  },
  {
   "cell_type": "markdown",
   "metadata": {},
   "source": [
    "A veces Geocode Falla, así que plan es sacar las coordenadas de la web"
   ]
  },
  {
   "cell_type": "code",
   "execution_count": 24,
   "metadata": {},
   "outputs": [],
   "source": [
    "madrid = {'type': 'Point', 'coordinates': [-3.6793, 40.42955]}"
   ]
  },
  {
   "cell_type": "markdown",
   "metadata": {},
   "source": [
    "¿Queremos hacernos una base de datos con todos los restaurantes Veganos de Madrid que hay en Foursquare? \n",
    "EEEEAAAASSSSYYYY (¡¡Somos programadoras!!) 🚀🙃🐭🔥🐼🤯"
   ]
  },
  {
   "cell_type": "markdown",
   "metadata": {},
   "source": [
    "Lamento deciros que lo primerito es leer la documentación de la API. \n",
    "- https://developer.foursquare.com/docs/api-reference/venues/search/"
   ]
  },
  {
   "cell_type": "markdown",
   "metadata": {},
   "source": [
    "#QUEYOYAESTABAREGISTRADA así que ya tengo token ...."
   ]
  },
  {
   "cell_type": "code",
   "execution_count": 25,
   "metadata": {},
   "outputs": [],
   "source": [
    "#Pero lo he guardado en un .env para que no me llegue ningún e-mail BOMBA 💌💣"
   ]
  },
  {
   "cell_type": "code",
   "execution_count": 26,
   "metadata": {},
   "outputs": [],
   "source": [
    "tok1 = os.getenv(\"tok1\")\n",
    "tok2 = os.getenv(\"tok2\")"
   ]
  },
  {
   "cell_type": "code",
   "execution_count": 27,
   "metadata": {},
   "outputs": [],
   "source": [
    "#url = \"https://favqs.com/api/session\"\n",
    "url = 'https://api.foursquare.com/v2/venues/explore'\n",
    "vegan = \"4bf58dd8d48988d1d3941735\""
   ]
  },
  {
   "cell_type": "markdown",
   "metadata": {},
   "source": [
    "Al final hacemos un mapita con Cartoframes (quemegusta) y os dejo la DOC para que investiguéis porque no hay tiempo pa todo.\n",
    "- https://carto.com/developers/cartoframes/"
   ]
  },
  {
   "cell_type": "code",
   "execution_count": 34,
   "metadata": {},
   "outputs": [],
   "source": [
    "#!pip3 install cartoframes"
   ]
  },
  {
   "cell_type": "code",
   "execution_count": null,
   "metadata": {},
   "outputs": [],
   "source": [
    "params = { \"client_id\" = tok1,\n",
    "          \"client_secret\" = tok2,\n",
    "          \"v\" = \"20180323\",\n",
    "          \"ll\" = f'{madrid.get(\"coordenadas\")}\n",
    "    \n",
    "}"
   ]
  }
 ],
 "metadata": {
  "kernelspec": {
   "display_name": "Python 3",
   "language": "python",
   "name": "python3"
  },
  "language_info": {
   "codemirror_mode": {
    "name": "ipython",
    "version": 3
   },
   "file_extension": ".py",
   "mimetype": "text/x-python",
   "name": "python",
   "nbconvert_exporter": "python",
   "pygments_lexer": "ipython3",
   "version": "3.8.3"
  }
 },
 "nbformat": 4,
 "nbformat_minor": 4
}
