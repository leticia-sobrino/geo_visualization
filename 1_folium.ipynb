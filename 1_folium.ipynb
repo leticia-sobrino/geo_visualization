{
 "cells": [
  {
   "cell_type": "markdown",
   "metadata": {},
   "source": [
    "### Intro to Folium "
   ]
  },
  {
   "cell_type": "markdown",
   "metadata": {},
   "source": [
    "![mapa](images/geo_portada.jpg)"
   ]
  },
  {
   "cell_type": "markdown",
   "metadata": {},
   "source": [
    "Lo primerito será siempre leer la documentación ¿no? PLS :cobete: :músculo: :fueguito: \n",
    "- https://python-visualization.github.io/folium/"
   ]
  },
  {
   "cell_type": "code",
   "execution_count": 2,
   "metadata": {},
   "outputs": [
    {
     "name": "stdout",
     "output_type": "stream",
     "text": [
      "Collecting folium\n",
      "  Downloading folium-0.11.0-py2.py3-none-any.whl (93 kB)\n",
      "Collecting branca>=0.3.0\n",
      "  Downloading branca-0.4.1-py3-none-any.whl (24 kB)\n",
      "Collecting numpy\n",
      "  Downloading numpy-1.19.4-cp39-cp39-win_amd64.whl (13.0 MB)\n",
      "Requirement already satisfied: requests in c:\\users\\leticia\\appdata\\local\\programs\\python\\python39\\lib\\site-packages (from folium) (2.24.0)\n",
      "Collecting jinja2>=2.9\n",
      "  Using cached Jinja2-2.11.2-py2.py3-none-any.whl (125 kB)\n",
      "Requirement already satisfied: urllib3!=1.25.0,!=1.25.1,<1.26,>=1.21.1 in c:\\users\\leticia\\appdata\\local\\programs\\python\\python39\\lib\\site-packages (from requests->folium) (1.25.11)\n",
      "Requirement already satisfied: certifi>=2017.4.17 in c:\\users\\leticia\\appdata\\local\\programs\\python\\python39\\lib\\site-packages (from requests->folium) (2020.6.20)\n",
      "Requirement already satisfied: chardet<4,>=3.0.2 in c:\\users\\leticia\\appdata\\local\\programs\\python\\python39\\lib\\site-packages (from requests->folium) (3.0.4)\n",
      "Requirement already satisfied: idna<3,>=2.5 in c:\\users\\leticia\\appdata\\local\\programs\\python\\python39\\lib\\site-packages (from requests->folium) (2.10)\n",
      "Collecting MarkupSafe>=0.23\n",
      "  Downloading MarkupSafe-1.1.1.tar.gz (19 kB)\n",
      "Using legacy 'setup.py install' for MarkupSafe, since package 'wheel' is not installed.\n",
      "Installing collected packages: MarkupSafe, jinja2, branca, numpy, folium\n",
      "    Running setup.py install for MarkupSafe: started\n",
      "    Running setup.py install for MarkupSafe: finished with status 'done'\n",
      "Successfully installed MarkupSafe-1.1.1 branca-0.4.1 folium-0.11.0 jinja2-2.11.2 numpy-1.19.4\n"
     ]
    },
    {
     "name": "stderr",
     "output_type": "stream",
     "text": [
      "WARNING: You are using pip version 20.2.3; however, version 20.2.4 is available.\n",
      "You should consider upgrading via the 'c:\\users\\leticia\\appdata\\local\\programs\\python\\python39\\python.exe -m pip install --upgrade pip' command.\n"
     ]
    },
    {
     "name": "stdout",
     "output_type": "stream",
     "text": [
      "Collecting folium\n",
      "  Using cached folium-0.11.0-py2.py3-none-any.whl (93 kB)\n",
      "Requirement already satisfied: requests in c:\\users\\leticia\\documents\\miniconda3\\lib\\site-packages (from folium) (2.23.0)\n",
      "Requirement already satisfied: jinja2>=2.9 in c:\\users\\leticia\\documents\\miniconda3\\lib\\site-packages (from folium) (2.11.2)\n",
      "Requirement already satisfied: numpy in c:\\users\\leticia\\documents\\miniconda3\\lib\\site-packages (from folium) (1.19.2)\n",
      "Collecting branca>=0.3.0\n",
      "  Using cached branca-0.4.1-py3-none-any.whl (24 kB)\n",
      "Requirement already satisfied: certifi>=2017.4.17 in c:\\users\\leticia\\documents\\miniconda3\\lib\\site-packages (from requests->folium) (2020.6.20)\n",
      "Requirement already satisfied: urllib3!=1.25.0,!=1.25.1,<1.26,>=1.21.1 in c:\\users\\leticia\\documents\\miniconda3\\lib\\site-packages (from requests->folium) (1.25.8)\n",
      "Requirement already satisfied: chardet<4,>=3.0.2 in c:\\users\\leticia\\documents\\miniconda3\\lib\\site-packages (from requests->folium) (3.0.4)\n",
      "Requirement already satisfied: idna<3,>=2.5 in c:\\users\\leticia\\documents\\miniconda3\\lib\\site-packages (from requests->folium) (2.9)\n",
      "Requirement already satisfied: MarkupSafe>=0.23 in c:\\users\\leticia\\documents\\miniconda3\\lib\\site-packages (from jinja2>=2.9->folium) (1.1.1)\n",
      "Installing collected packages: branca, folium\n",
      "Successfully installed branca-0.4.1 folium-0.11.0\n"
     ]
    }
   ],
   "source": [
    "!pip install folium"
   ]
  },
  {
   "cell_type": "code",
   "execution_count": 3,
   "metadata": {},
   "outputs": [],
   "source": [
    "import folium\n",
    "from folium import Choropleth, Circle, Marker, Icon, Map\n",
    "from folium.plugins import HeatMap, MarkerCluster\n",
    "import pandas as pd"
   ]
  },
  {
   "cell_type": "code",
   "execution_count": 4,
   "metadata": {},
   "outputs": [],
   "source": [
    "inicial_lat = 40.4143851\n",
    "inicial_long = -3.6820241"
   ]
  },
  {
   "cell_type": "markdown",
   "metadata": {},
   "source": [
    "### Primerito Mapa "
   ]
  },
  {
   "cell_type": "markdown",
   "metadata": {},
   "source": [
    "Creamos un mapa básico a raíz de unas coordenadas con un zoom inicial"
   ]
  },
  {
   "cell_type": "code",
   "execution_count": 7,
   "metadata": {},
   "outputs": [
    {
     "data": {
      "text/html": [
       "<div style=\"width:100%;\"><div style=\"position:relative;width:100%;height:0;padding-bottom:60%;\"><span style=\"color:#565656\">Make this Notebook Trusted to load map: File -> Trust Notebook</span><iframe src=\"about:blank\" style=\"position:absolute;width:100%;height:100%;left:0;top:0;border:none !important;\" data-html=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 onload=\"this.contentDocument.open();this.contentDocument.write(atob(this.getAttribute('data-html')));this.contentDocument.close();\" allowfullscreen webkitallowfullscreen mozallowfullscreen></iframe></div></div>"
      ],
      "text/plain": [
       "<folium.folium.Map at 0x2d36c2e2a30>"
      ]
     },
     "execution_count": 7,
     "metadata": {},
     "output_type": "execute_result"
    }
   ],
   "source": [
    "#mapa aquí :) \n",
    "\n",
    "map_1 = folium.Map(location = [inicial_lat, inicial_long], zoom_start = 15)\n",
    "map_1"
   ]
  },
  {
   "cell_type": "markdown",
   "metadata": {},
   "source": [
    "### Marker"
   ]
  },
  {
   "cell_type": "markdown",
   "metadata": {},
   "source": [
    "Os dejo por aquí la doc concreta de los marker\n",
    "- https://python-visualization.github.io/folium/modules.html?highlight=marker"
   ]
  },
  {
   "cell_type": "markdown",
   "metadata": {},
   "source": [
    "Para añadir markers en un mapa, tendremos que \"añadir\" elementos a dicho mapa, por eso, vamos a añadirlos al mapa anterior llamado map_1. "
   ]
  },
  {
   "cell_type": "code",
   "execution_count": 9,
   "metadata": {},
   "outputs": [
    {
     "data": {
      "text/html": [
       "<div style=\"width:100%;\"><div style=\"position:relative;width:100%;height:0;padding-bottom:60%;\"><span style=\"color:#565656\">Make this Notebook Trusted to load map: File -> Trust Notebook</span><iframe src=\"about:blank\" style=\"position:absolute;width:100%;height:100%;left:0;top:0;border:none !important;\" data-html=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 onload=\"this.contentDocument.open();this.contentDocument.write(atob(this.getAttribute('data-html')));this.contentDocument.close();\" allowfullscreen webkitallowfullscreen mozallowfullscreen></iframe></div></div>"
      ],
      "text/plain": [
       "<folium.folium.Map at 0x2d36c2e2a30>"
      ]
     },
     "execution_count": 9,
     "metadata": {},
     "output_type": "execute_result"
    }
   ],
   "source": [
    "#Marker Parque de Dobby\n",
    "parque = Marker(location = [inicial_lat, inicial_long], tooltip = \"Parque de Dobby\")\n",
    "parque.add_to(map_1)\n",
    "map_1"
   ]
  },
  {
   "cell_type": "markdown",
   "metadata": {},
   "source": [
    "Añadimos otro Marker y vemos que le podemos cambiar el icono y el color de fondo y del icono."
   ]
  },
  {
   "cell_type": "code",
   "execution_count": 10,
   "metadata": {},
   "outputs": [],
   "source": [
    "#Ubicación de la casa de Dobby\n",
    "lavapi_lat = 40.408808\n",
    "lavapi_long = -3.7034796"
   ]
  },
  {
   "cell_type": "markdown",
   "metadata": {},
   "source": [
    "Pero...wait ¿quién es Dobby?"
   ]
  },
  {
   "cell_type": "markdown",
   "metadata": {},
   "source": [
    "![mapa](images/dobby.jpeg)"
   ]
  },
  {
   "cell_type": "code",
   "execution_count": null,
   "metadata": {},
   "outputs": [],
   "source": [
    "Para modificar los iconos ¿de dónde los sacamos?\n",
    "- https://fontawesome.com/v4.7.0/icons/\n",
    "- https://getbootstrap.com/docs/3.3/components/"
   ]
  },
  {
   "cell_type": "code",
   "execution_count": 11,
   "metadata": {},
   "outputs": [],
   "source": [
    "#prefix = fa lo ponemos cuando usemos los iconos de fontawesome.\n",
    "icono = Icon( color = \"blue\",\n",
    "             prefix = \"fa\",        # si no pones este comando no sale el icono\n",
    "             icon = \"paw\",\n",
    "             icon_color = \"black\"\n",
    "\n",
    "\n",
    ")\n",
    "loc = [lavapi_lat, lavapi_long]"
   ]
  },
  {
   "cell_type": "code",
   "execution_count": 12,
   "metadata": {},
   "outputs": [],
   "source": [
    "#guardamos el marker en una variable\n",
    "marker_cueva = Marker(location = loc, icon = icono)"
   ]
  },
  {
   "cell_type": "code",
   "execution_count": 13,
   "metadata": {
    "scrolled": true
   },
   "outputs": [
    {
     "data": {
      "text/html": [
       "<div style=\"width:100%;\"><div style=\"position:relative;width:100%;height:0;padding-bottom:60%;\"><span style=\"color:#565656\">Make this Notebook Trusted to load map: File -> Trust Notebook</span><iframe src=\"about:blank\" style=\"position:absolute;width:100%;height:100%;left:0;top:0;border:none !important;\" data-html=PCFET0NUWVBFIGh0bWw+CjxoZWFkPiAgICAKICAgIDxtZXRhIGh0dHAtZXF1aXY9ImNvbnRlbnQtdHlwZSIgY29udGVudD0idGV4dC9odG1sOyBjaGFyc2V0PVVURi04IiAvPgogICAgCiAgICAgICAgPHNjcmlwdD4KICAgICAgICAgICAgTF9OT19UT1VDSCA9IGZhbHNlOwogICAgICAgICAgICBMX0RJU0FCTEVfM0QgPSBmYWxzZTsKICAgICAgICA8L3NjcmlwdD4KICAgIAogICAgPHNjcmlwdCBzcmM9Imh0dHBzOi8vY2RuLmpzZGVsaXZyLm5ldC9ucG0vbGVhZmxldEAxLjYuMC9kaXN0L2xlYWZsZXQuanMiPjwvc2NyaXB0PgogICAgPHNjcmlwdCBzcmM9Imh0dHBzOi8vY29kZS5qcXVlcnkuY29tL2pxdWVyeS0xLjEyLjQubWluLmpzIj48L3NjcmlwdD4KICAgIDxzY3JpcHQgc3JjPSJodHRwczovL21heGNkbi5ib290c3RyYXBjZG4uY29tL2Jvb3RzdHJhcC8zLjIuMC9qcy9ib290c3RyYXAubWluLmpzIj48L3NjcmlwdD4KICAgIDxzY3JpcHQgc3JjPSJodHRwczovL2NkbmpzLmNsb3VkZmxhcmUuY29tL2FqYXgvbGlicy9MZWFmbGV0LmF3ZXNvbWUtbWFya2Vycy8yLjAuMi9sZWFmbGV0LmF3ZXNvbWUtbWFya2Vycy5qcyI+PC9zY3JpcHQ+CiAgICA8bGluayByZWw9InN0eWxlc2hlZXQiIGhyZWY9Imh0dHBzOi8vY2RuLmpzZGVsaXZyLm5ldC9ucG0vbGVhZmxldEAxLjYuMC9kaXN0L2xlYWZsZXQuY3NzIi8+CiAgICA8bGluayByZWw9InN0eWxlc2hlZXQiIGhyZWY9Imh0dHBzOi8vbWF4Y2RuLmJvb3RzdHJhcGNkbi5jb20vYm9vdHN0cmFwLzMuMi4wL2Nzcy9ib290c3RyYXAubWluLmNzcyIvPgogICAgPGxpbmsgcmVsPSJzdHlsZXNoZWV0IiBocmVmPSJodHRwczovL21heGNkbi5ib290c3RyYXBjZG4uY29tL2Jvb3RzdHJhcC8zLjIuMC9jc3MvYm9vdHN0cmFwLXRoZW1lLm1pbi5jc3MiLz4KICAgIDxsaW5rIHJlbD0ic3R5bGVzaGVldCIgaHJlZj0iaHR0cHM6Ly9tYXhjZG4uYm9vdHN0cmFwY2RuLmNvbS9mb250LWF3ZXNvbWUvNC42LjMvY3NzL2ZvbnQtYXdlc29tZS5taW4uY3NzIi8+CiAgICA8bGluayByZWw9InN0eWxlc2hlZXQiIGhyZWY9Imh0dHBzOi8vY2RuanMuY2xvdWRmbGFyZS5jb20vYWpheC9saWJzL0xlYWZsZXQuYXdlc29tZS1tYXJrZXJzLzIuMC4yL2xlYWZsZXQuYXdlc29tZS1tYXJrZXJzLmNzcyIvPgogICAgPGxpbmsgcmVsPSJzdHlsZXNoZWV0IiBocmVmPSJodHRwczovL3Jhd2Nkbi5naXRoYWNrLmNvbS9weXRob24tdmlzdWFsaXphdGlvbi9mb2xpdW0vbWFzdGVyL2ZvbGl1bS90ZW1wbGF0ZXMvbGVhZmxldC5hd2Vzb21lLnJvdGF0ZS5jc3MiLz4KICAgIDxzdHlsZT5odG1sLCBib2R5IHt3aWR0aDogMTAwJTtoZWlnaHQ6IDEwMCU7bWFyZ2luOiAwO3BhZGRpbmc6IDA7fTwvc3R5bGU+CiAgICA8c3R5bGU+I21hcCB7cG9zaXRpb246YWJzb2x1dGU7dG9wOjA7Ym90dG9tOjA7cmlnaHQ6MDtsZWZ0OjA7fTwvc3R5bGU+CiAgICAKICAgICAgICAgICAgPG1ldGEgbmFtZT0idmlld3BvcnQiIGNvbnRlbnQ9IndpZHRoPWRldmljZS13aWR0aCwKICAgICAgICAgICAgICAgIGluaXRpYWwtc2NhbGU9MS4wLCBtYXhpbXVtLXNjYWxlPTEuMCwgdXNlci1zY2FsYWJsZT1ubyIgLz4KICAgICAgICAgICAgPHN0eWxlPgogICAgICAgICAgICAgICAgI21hcF81M2RjMWRlOTA4NmM0NWZkYTNhYjE0MTZlZjhlYjQzZCB7CiAgICAgICAgICAgICAgICAgICAgcG9zaXRpb246IHJlbGF0aXZlOwogICAgICAgICAgICAgICAgICAgIHdpZHRoOiAxMDAuMCU7CiAgICAgICAgICAgICAgICAgICAgaGVpZ2h0OiAxMDAuMCU7CiAgICAgICAgICAgICAgICAgICAgbGVmdDogMC4wJTsKICAgICAgICAgICAgICAgICAgICB0b3A6IDAuMCU7CiAgICAgICAgICAgICAgICB9CiAgICAgICAgICAgIDwvc3R5bGU+CiAgICAgICAgCjwvaGVhZD4KPGJvZHk+ICAgIAogICAgCiAgICAgICAgICAgIDxkaXYgY2xhc3M9ImZvbGl1bS1tYXAiIGlkPSJtYXBfNTNkYzFkZTkwODZjNDVmZGEzYWIxNDE2ZWY4ZWI0M2QiID48L2Rpdj4KICAgICAgICAKPC9ib2R5Pgo8c2NyaXB0PiAgICAKICAgIAogICAgICAgICAgICB2YXIgbWFwXzUzZGMxZGU5MDg2YzQ1ZmRhM2FiMTQxNmVmOGViNDNkID0gTC5tYXAoCiAgICAgICAgICAgICAgICAibWFwXzUzZGMxZGU5MDg2YzQ1ZmRhM2FiMTQxNmVmOGViNDNkIiwKICAgICAgICAgICAgICAgIHsKICAgICAgICAgICAgICAgICAgICBjZW50ZXI6IFs0MC40MTQzODUxLCAtMy42ODIwMjQxXSwKICAgICAgICAgICAgICAgICAgICBjcnM6IEwuQ1JTLkVQU0czODU3LAogICAgICAgICAgICAgICAgICAgIHpvb206IDE1LAogICAgICAgICAgICAgICAgICAgIHpvb21Db250cm9sOiB0cnVlLAogICAgICAgICAgICAgICAgICAgIHByZWZlckNhbnZhczogZmFsc2UsCiAgICAgICAgICAgICAgICB9CiAgICAgICAgICAgICk7CgogICAgICAgICAgICAKCiAgICAgICAgCiAgICAKICAgICAgICAgICAgdmFyIHRpbGVfbGF5ZXJfZWMzMTMzMGRhNDk0NGEzZDgyZDQwOTk4NTBhOTk2ZjAgPSBMLnRpbGVMYXllcigKICAgICAgICAgICAgICAgICJodHRwczovL3tzfS50aWxlLm9wZW5zdHJlZXRtYXAub3JnL3t6fS97eH0ve3l9LnBuZyIsCiAgICAgICAgICAgICAgICB7ImF0dHJpYnV0aW9uIjogIkRhdGEgYnkgXHUwMDI2Y29weTsgXHUwMDNjYSBocmVmPVwiaHR0cDovL29wZW5zdHJlZXRtYXAub3JnXCJcdTAwM2VPcGVuU3RyZWV0TWFwXHUwMDNjL2FcdTAwM2UsIHVuZGVyIFx1MDAzY2EgaHJlZj1cImh0dHA6Ly93d3cub3BlbnN0cmVldG1hcC5vcmcvY29weXJpZ2h0XCJcdTAwM2VPRGJMXHUwMDNjL2FcdTAwM2UuIiwgImRldGVjdFJldGluYSI6IGZhbHNlLCAibWF4TmF0aXZlWm9vbSI6IDE4LCAibWF4Wm9vbSI6IDE4LCAibWluWm9vbSI6IDAsICJub1dyYXAiOiBmYWxzZSwgIm9wYWNpdHkiOiAxLCAic3ViZG9tYWlucyI6ICJhYmMiLCAidG1zIjogZmFsc2V9CiAgICAgICAgICAgICkuYWRkVG8obWFwXzUzZGMxZGU5MDg2YzQ1ZmRhM2FiMTQxNmVmOGViNDNkKTsKICAgICAgICAKICAgIAogICAgICAgICAgICB2YXIgbWFya2VyXzgxOTBiMmY3YWJhNDQ0MDI5OTU4OWY4YTlhNjgzY2VmID0gTC5tYXJrZXIoCiAgICAgICAgICAgICAgICBbNDAuNDE0Mzg1MSwgLTMuNjgyMDI0MV0sCiAgICAgICAgICAgICAgICB7fQogICAgICAgICAgICApLmFkZFRvKG1hcF81M2RjMWRlOTA4NmM0NWZkYTNhYjE0MTZlZjhlYjQzZCk7CiAgICAgICAgCiAgICAKICAgICAgICAgICAgbWFya2VyXzgxOTBiMmY3YWJhNDQ0MDI5OTU4OWY4YTlhNjgzY2VmLmJpbmRUb29sdGlwKAogICAgICAgICAgICAgICAgYDxkaXY+CiAgICAgICAgICAgICAgICAgICAgIFBhcnF1ZSBkZSBEb2JieQogICAgICAgICAgICAgICAgIDwvZGl2PmAsCiAgICAgICAgICAgICAgICB7InN0aWNreSI6IHRydWV9CiAgICAgICAgICAgICk7CiAgICAgICAgCiAgICAKICAgICAgICAgICAgdmFyIG1hcmtlcl84NzgwZGQ3YWQzMDg0ZjcxYjUzMWIxMGQxY2U3ODM1YSA9IEwubWFya2VyKAogICAgICAgICAgICAgICAgWzQwLjQwODgwOCwgLTMuNzAzNDc5Nl0sCiAgICAgICAgICAgICAgICB7fQogICAgICAgICAgICApLmFkZFRvKG1hcF81M2RjMWRlOTA4NmM0NWZkYTNhYjE0MTZlZjhlYjQzZCk7CiAgICAgICAgCiAgICAKICAgICAgICAgICAgdmFyIGljb25fNmYwMWExNzQyMGM0NGFlYTkyMTBkM2FlZDM1ZjM5NWIgPSBMLkF3ZXNvbWVNYXJrZXJzLmljb24oCiAgICAgICAgICAgICAgICB7ImV4dHJhQ2xhc3NlcyI6ICJmYS1yb3RhdGUtMCIsICJpY29uIjogInBhdyIsICJpY29uQ29sb3IiOiAiYmxhY2siLCAibWFya2VyQ29sb3IiOiAiYmx1ZSIsICJwcmVmaXgiOiAiZmEifQogICAgICAgICAgICApOwogICAgICAgICAgICBtYXJrZXJfODc4MGRkN2FkMzA4NGY3MWI1MzFiMTBkMWNlNzgzNWEuc2V0SWNvbihpY29uXzZmMDFhMTc0MjBjNDRhZWE5MjEwZDNhZWQzNWYzOTViKTsKICAgICAgICAKPC9zY3JpcHQ+ onload=\"this.contentDocument.open();this.contentDocument.write(atob(this.getAttribute('data-html')));this.contentDocument.close();\" allowfullscreen webkitallowfullscreen mozallowfullscreen></iframe></div></div>"
      ],
      "text/plain": [
       "<folium.folium.Map at 0x2d36c2e2a30>"
      ]
     },
     "execution_count": 13,
     "metadata": {},
     "output_type": "execute_result"
    }
   ],
   "source": [
    "#añadimos el marker al mapa original donde ya teníamos el parque de Dobby guardado\n",
    "map_1.add_child(marker_cueva)\n",
    "map_1"
   ]
  },
  {
   "cell_type": "markdown",
   "metadata": {},
   "source": [
    "### Markers, muchos markers, todos los markers a la vez 🚀"
   ]
  },
  {
   "cell_type": "markdown",
   "metadata": {},
   "source": [
    "Para enseñar este ejemplo, utilizamos un dataset donde tenemos ya unas columnas de latitud y longitud "
   ]
  },
  {
   "cell_type": "code",
   "execution_count": 14,
   "metadata": {},
   "outputs": [],
   "source": [
    "df = pd.read_csv('data/bici_clean.csv')"
   ]
  },
  {
   "cell_type": "code",
   "execution_count": 15,
   "metadata": {},
   "outputs": [
    {
     "data": {
      "text/html": [
       "<div>\n",
       "<style scoped>\n",
       "    .dataframe tbody tr th:only-of-type {\n",
       "        vertical-align: middle;\n",
       "    }\n",
       "\n",
       "    .dataframe tbody tr th {\n",
       "        vertical-align: top;\n",
       "    }\n",
       "\n",
       "    .dataframe thead th {\n",
       "        text-align: right;\n",
       "    }\n",
       "</style>\n",
       "<table border=\"1\" class=\"dataframe\">\n",
       "  <thead>\n",
       "    <tr style=\"text-align: right;\">\n",
       "      <th></th>\n",
       "      <th>fecha</th>\n",
       "      <th>dia</th>\n",
       "      <th>year</th>\n",
       "      <th>horario</th>\n",
       "      <th>festividad</th>\n",
       "      <th>tipo_accidente</th>\n",
       "      <th>lesividad</th>\n",
       "      <th>meteo</th>\n",
       "      <th>distrito</th>\n",
       "      <th>direccion</th>\n",
       "      <th>lon</th>\n",
       "      <th>lat</th>\n",
       "    </tr>\n",
       "  </thead>\n",
       "  <tbody>\n",
       "    <tr>\n",
       "      <th>0</th>\n",
       "      <td>2019-01-01 14:00:00</td>\n",
       "      <td>2019-01-01 00:00:00</td>\n",
       "      <td>2019</td>\n",
       "      <td>Tarde</td>\n",
       "      <td>Festivo</td>\n",
       "      <td>Colision</td>\n",
       "      <td>Moderada</td>\n",
       "      <td>Despejado</td>\n",
       "      <td>SALAMANCA</td>\n",
       "      <td>CALLE CASTELLO / CALLE DON RAMON DE LA CRUZ Ma...</td>\n",
       "      <td>-3.681209</td>\n",
       "      <td>40.428990</td>\n",
       "    </tr>\n",
       "    <tr>\n",
       "      <th>1</th>\n",
       "      <td>2019-01-02 21:00:00</td>\n",
       "      <td>2019-01-02 00:00:00</td>\n",
       "      <td>2019</td>\n",
       "      <td>Noche</td>\n",
       "      <td>Laborable</td>\n",
       "      <td>Colision</td>\n",
       "      <td>Grave</td>\n",
       "      <td>Despejado</td>\n",
       "      <td>HORTALEZA</td>\n",
       "      <td>AVDA. GRAN VIA DE HORTALEZA / GTA. LUIS ROSALE...</td>\n",
       "      <td>-3.654527</td>\n",
       "      <td>40.466921</td>\n",
       "    </tr>\n",
       "    <tr>\n",
       "      <th>2</th>\n",
       "      <td>2019-01-03 14:00:00</td>\n",
       "      <td>2019-01-03 00:00:00</td>\n",
       "      <td>2019</td>\n",
       "      <td>Tarde</td>\n",
       "      <td>Laborable</td>\n",
       "      <td>Colision</td>\n",
       "      <td>Leve</td>\n",
       "      <td>Despejado</td>\n",
       "      <td>VILLA DE VALLECAS</td>\n",
       "      <td>CALLE FELIPE ALVAREZ 10 Madrid</td>\n",
       "      <td>-3.623423</td>\n",
       "      <td>40.381971</td>\n",
       "    </tr>\n",
       "    <tr>\n",
       "      <th>3</th>\n",
       "      <td>2019-01-03 13:00:00</td>\n",
       "      <td>2019-01-03 00:00:00</td>\n",
       "      <td>2019</td>\n",
       "      <td>Tarde</td>\n",
       "      <td>Laborable</td>\n",
       "      <td>Colision</td>\n",
       "      <td>Leve</td>\n",
       "      <td>Despejado</td>\n",
       "      <td>VILLA DE VALLECAS</td>\n",
       "      <td>AVDA. SANTA EUGENIA / CALLE REAL DE ARGANDA Ma...</td>\n",
       "      <td>-3.608276</td>\n",
       "      <td>40.377939</td>\n",
       "    </tr>\n",
       "    <tr>\n",
       "      <th>4</th>\n",
       "      <td>2019-01-03 13:00:00</td>\n",
       "      <td>2019-01-03 00:00:00</td>\n",
       "      <td>2019</td>\n",
       "      <td>Tarde</td>\n",
       "      <td>Laborable</td>\n",
       "      <td>Colision</td>\n",
       "      <td>Leve</td>\n",
       "      <td>Despejado</td>\n",
       "      <td>VILLA DE VALLECAS</td>\n",
       "      <td>AVDA. SANTA EUGENIA / CALLE REAL DE ARGANDA Ma...</td>\n",
       "      <td>-3.608276</td>\n",
       "      <td>40.377939</td>\n",
       "    </tr>\n",
       "  </tbody>\n",
       "</table>\n",
       "</div>"
      ],
      "text/plain": [
       "                 fecha                  dia  year horario festividad  \\\n",
       "0  2019-01-01 14:00:00  2019-01-01 00:00:00  2019   Tarde    Festivo   \n",
       "1  2019-01-02 21:00:00  2019-01-02 00:00:00  2019   Noche  Laborable   \n",
       "2  2019-01-03 14:00:00  2019-01-03 00:00:00  2019   Tarde  Laborable   \n",
       "3  2019-01-03 13:00:00  2019-01-03 00:00:00  2019   Tarde  Laborable   \n",
       "4  2019-01-03 13:00:00  2019-01-03 00:00:00  2019   Tarde  Laborable   \n",
       "\n",
       "  tipo_accidente lesividad      meteo           distrito  \\\n",
       "0       Colision  Moderada  Despejado          SALAMANCA   \n",
       "1       Colision     Grave  Despejado          HORTALEZA   \n",
       "2       Colision      Leve  Despejado  VILLA DE VALLECAS   \n",
       "3       Colision      Leve  Despejado  VILLA DE VALLECAS   \n",
       "4       Colision      Leve  Despejado  VILLA DE VALLECAS   \n",
       "\n",
       "                                           direccion       lon        lat  \n",
       "0  CALLE CASTELLO / CALLE DON RAMON DE LA CRUZ Ma... -3.681209  40.428990  \n",
       "1  AVDA. GRAN VIA DE HORTALEZA / GTA. LUIS ROSALE... -3.654527  40.466921  \n",
       "2                     CALLE FELIPE ALVAREZ 10 Madrid -3.623423  40.381971  \n",
       "3  AVDA. SANTA EUGENIA / CALLE REAL DE ARGANDA Ma... -3.608276  40.377939  \n",
       "4  AVDA. SANTA EUGENIA / CALLE REAL DE ARGANDA Ma... -3.608276  40.377939  "
      ]
     },
     "execution_count": 15,
     "metadata": {},
     "output_type": "execute_result"
    }
   ],
   "source": [
    "df.head()"
   ]
  },
  {
   "cell_type": "code",
   "execution_count": 16,
   "metadata": {},
   "outputs": [],
   "source": [
    "#Como hay muchos datos y estamos haciendo pruebas, vamos a quedarnos solo con los de 2019\n",
    "df_2019 = df[(df.year == 2019)]"
   ]
  },
  {
   "cell_type": "code",
   "execution_count": 17,
   "metadata": {},
   "outputs": [
    {
     "data": {
      "text/plain": [
       "array(['Festivo', 'Laborable', 'Vispera'], dtype=object)"
      ]
     },
     "execution_count": 17,
     "metadata": {},
     "output_type": "execute_result"
    }
   ],
   "source": [
    "#¿Cuántas clasificaciones de festividad hay?\n",
    "df_2019.festividad.unique()"
   ]
  },
  {
   "cell_type": "code",
   "execution_count": 18,
   "metadata": {},
   "outputs": [
    {
     "data": {
      "text/html": [
       "<div style=\"width:100%;\"><div style=\"position:relative;width:100%;height:0;padding-bottom:60%;\"><span style=\"color:#565656\">Make this Notebook Trusted to load map: File -> Trust Notebook</span><iframe src=\"about:blank\" style=\"position:absolute;width:100%;height:100%;left:0;top:0;border:none !important;\" data-html=PCFET0NUWVBFIGh0bWw+CjxoZWFkPiAgICAKICAgIDxtZXRhIGh0dHAtZXF1aXY9ImNvbnRlbnQtdHlwZSIgY29udGVudD0idGV4dC9odG1sOyBjaGFyc2V0PVVURi04IiAvPgogICAgCiAgICAgICAgPHNjcmlwdD4KICAgICAgICAgICAgTF9OT19UT1VDSCA9IGZhbHNlOwogICAgICAgICAgICBMX0RJU0FCTEVfM0QgPSBmYWxzZTsKICAgICAgICA8L3NjcmlwdD4KICAgIAogICAgPHNjcmlwdCBzcmM9Imh0dHBzOi8vY2RuLmpzZGVsaXZyLm5ldC9ucG0vbGVhZmxldEAxLjYuMC9kaXN0L2xlYWZsZXQuanMiPjwvc2NyaXB0PgogICAgPHNjcmlwdCBzcmM9Imh0dHBzOi8vY29kZS5qcXVlcnkuY29tL2pxdWVyeS0xLjEyLjQubWluLmpzIj48L3NjcmlwdD4KICAgIDxzY3JpcHQgc3JjPSJodHRwczovL21heGNkbi5ib290c3RyYXBjZG4uY29tL2Jvb3RzdHJhcC8zLjIuMC9qcy9ib290c3RyYXAubWluLmpzIj48L3NjcmlwdD4KICAgIDxzY3JpcHQgc3JjPSJodHRwczovL2NkbmpzLmNsb3VkZmxhcmUuY29tL2FqYXgvbGlicy9MZWFmbGV0LmF3ZXNvbWUtbWFya2Vycy8yLjAuMi9sZWFmbGV0LmF3ZXNvbWUtbWFya2Vycy5qcyI+PC9zY3JpcHQ+CiAgICA8bGluayByZWw9InN0eWxlc2hlZXQiIGhyZWY9Imh0dHBzOi8vY2RuLmpzZGVsaXZyLm5ldC9ucG0vbGVhZmxldEAxLjYuMC9kaXN0L2xlYWZsZXQuY3NzIi8+CiAgICA8bGluayByZWw9InN0eWxlc2hlZXQiIGhyZWY9Imh0dHBzOi8vbWF4Y2RuLmJvb3RzdHJhcGNkbi5jb20vYm9vdHN0cmFwLzMuMi4wL2Nzcy9ib290c3RyYXAubWluLmNzcyIvPgogICAgPGxpbmsgcmVsPSJzdHlsZXNoZWV0IiBocmVmPSJodHRwczovL21heGNkbi5ib290c3RyYXBjZG4uY29tL2Jvb3RzdHJhcC8zLjIuMC9jc3MvYm9vdHN0cmFwLXRoZW1lLm1pbi5jc3MiLz4KICAgIDxsaW5rIHJlbD0ic3R5bGVzaGVldCIgaHJlZj0iaHR0cHM6Ly9tYXhjZG4uYm9vdHN0cmFwY2RuLmNvbS9mb250LWF3ZXNvbWUvNC42LjMvY3NzL2ZvbnQtYXdlc29tZS5taW4uY3NzIi8+CiAgICA8bGluayByZWw9InN0eWxlc2hlZXQiIGhyZWY9Imh0dHBzOi8vY2RuanMuY2xvdWRmbGFyZS5jb20vYWpheC9saWJzL0xlYWZsZXQuYXdlc29tZS1tYXJrZXJzLzIuMC4yL2xlYWZsZXQuYXdlc29tZS1tYXJrZXJzLmNzcyIvPgogICAgPGxpbmsgcmVsPSJzdHlsZXNoZWV0IiBocmVmPSJodHRwczovL3Jhd2Nkbi5naXRoYWNrLmNvbS9weXRob24tdmlzdWFsaXphdGlvbi9mb2xpdW0vbWFzdGVyL2ZvbGl1bS90ZW1wbGF0ZXMvbGVhZmxldC5hd2Vzb21lLnJvdGF0ZS5jc3MiLz4KICAgIDxzdHlsZT5odG1sLCBib2R5IHt3aWR0aDogMTAwJTtoZWlnaHQ6IDEwMCU7bWFyZ2luOiAwO3BhZGRpbmc6IDA7fTwvc3R5bGU+CiAgICA8c3R5bGU+I21hcCB7cG9zaXRpb246YWJzb2x1dGU7dG9wOjA7Ym90dG9tOjA7cmlnaHQ6MDtsZWZ0OjA7fTwvc3R5bGU+CiAgICAKICAgICAgICAgICAgPG1ldGEgbmFtZT0idmlld3BvcnQiIGNvbnRlbnQ9IndpZHRoPWRldmljZS13aWR0aCwKICAgICAgICAgICAgICAgIGluaXRpYWwtc2NhbGU9MS4wLCBtYXhpbXVtLXNjYWxlPTEuMCwgdXNlci1zY2FsYWJsZT1ubyIgLz4KICAgICAgICAgICAgPHN0eWxlPgogICAgICAgICAgICAgICAgI21hcF9iZTk0ZTk2YTNjZTA0NjNiYWE0M2RhZmYzNzVmZTMxNiB7CiAgICAgICAgICAgICAgICAgICAgcG9zaXRpb246IHJlbGF0aXZlOwogICAgICAgICAgICAgICAgICAgIHdpZHRoOiAxMDAuMCU7CiAgICAgICAgICAgICAgICAgICAgaGVpZ2h0OiAxMDAuMCU7CiAgICAgICAgICAgICAgICAgICAgbGVmdDogMC4wJTsKICAgICAgICAgICAgICAgICAgICB0b3A6IDAuMCU7CiAgICAgICAgICAgICAgICB9CiAgICAgICAgICAgIDwvc3R5bGU+CiAgICAgICAgCjwvaGVhZD4KPGJvZHk+ICAgIAogICAgCiAgICAgICAgICAgIDxkaXYgY2xhc3M9ImZvbGl1bS1tYXAiIGlkPSJtYXBfYmU5NGU5NmEzY2UwNDYzYmFhNDNkYWZmMzc1ZmUzMTYiID48L2Rpdj4KICAgICAgICAKPC9ib2R5Pgo8c2NyaXB0PiAgICAKICAgIAogICAgICAgICAgICB2YXIgbWFwX2JlOTRlOTZhM2NlMDQ2M2JhYTQzZGFmZjM3NWZlMzE2ID0gTC5tYXAoCiAgICAgICAgICAgICAgICAibWFwX2JlOTRlOTZhM2NlMDQ2M2JhYTQzZGFmZjM3NWZlMzE2IiwKICAgICAgICAgICAgICAgIHsKICAgICAgICAgICAgICAgICAgICBjZW50ZXI6IFs0MC40Mjg5OSwgLTMuNjgxMjA5XSwKICAgICAgICAgICAgICAgICAgICBjcnM6IEwuQ1JTLkVQU0czODU3LAogICAgICAgICAgICAgICAgICAgIHpvb206IDE1LAogICAgICAgICAgICAgICAgICAgIHpvb21Db250cm9sOiB0cnVlLAogICAgICAgICAgICAgICAgICAgIHByZWZlckNhbnZhczogZmFsc2UsCiAgICAgICAgICAgICAgICB9CiAgICAgICAgICAgICk7CgogICAgICAgICAgICAKCiAgICAgICAgCiAgICAKICAgICAgICAgICAgdmFyIHRpbGVfbGF5ZXJfOTVjYzY1YWY1ZjM2NDVjOWE3OGRlMTE0NzRjNmQ2YTggPSBMLnRpbGVMYXllcigKICAgICAgICAgICAgICAgICJodHRwczovL3tzfS50aWxlLm9wZW5zdHJlZXRtYXAub3JnL3t6fS97eH0ve3l9LnBuZyIsCiAgICAgICAgICAgICAgICB7ImF0dHJpYnV0aW9uIjogIkRhdGEgYnkgXHUwMDI2Y29weTsgXHUwMDNjYSBocmVmPVwiaHR0cDovL29wZW5zdHJlZXRtYXAub3JnXCJcdTAwM2VPcGVuU3RyZWV0TWFwXHUwMDNjL2FcdTAwM2UsIHVuZGVyIFx1MDAzY2EgaHJlZj1cImh0dHA6Ly93d3cub3BlbnN0cmVldG1hcC5vcmcvY29weXJpZ2h0XCJcdTAwM2VPRGJMXHUwMDNjL2FcdTAwM2UuIiwgImRldGVjdFJldGluYSI6IGZhbHNlLCAibWF4TmF0aXZlWm9vbSI6IDE4LCAibWF4Wm9vbSI6IDE4LCAibWluWm9vbSI6IDAsICJub1dyYXAiOiBmYWxzZSwgIm9wYWNpdHkiOiAxLCAic3ViZG9tYWlucyI6ICJhYmMiLCAidG1zIjogZmFsc2V9CiAgICAgICAgICAgICkuYWRkVG8obWFwX2JlOTRlOTZhM2NlMDQ2M2JhYTQzZGFmZjM3NWZlMzE2KTsKICAgICAgICAKPC9zY3JpcHQ+ onload=\"this.contentDocument.open();this.contentDocument.write(atob(this.getAttribute('data-html')));this.contentDocument.close();\" allowfullscreen webkitallowfullscreen mozallowfullscreen></iframe></div></div>"
      ],
      "text/plain": [
       "<folium.folium.Map at 0x2d36c4ea670>"
      ]
     },
     "execution_count": 18,
     "metadata": {},
     "output_type": "execute_result"
    }
   ],
   "source": [
    "map_2 = Map(location = [40.428990, -3.681209], zoom_start = 15)\n",
    "map_2"
   ]
  },
  {
   "cell_type": "markdown",
   "metadata": {},
   "source": [
    "Vamos a iterar sobre todas las filas del dataframe buscando qué hay dentro de cada fila en la columna. \n",
    "Pondremos un icono a los accidentes en función de la columna \"festivo\"\n",
    "Pero tendremos que guardar las configuraciones y añadir el Marker al final y todo esto dentro de un bucle 🤭🤯\n",
    "- Primero la config del tooltip\n",
    "- Después el iconito en función del festivo\n",
    "- Por último añadir cada marker\n",
    "\n",
    "Keep Calm, lo vemos 🙃"
   ]
  },
  {
   "cell_type": "code",
   "execution_count": 8,
   "metadata": {},
   "outputs": [],
   "source": [
    "#Bueno, recordad que lo primerito es crear un mapa base al que añadimos cosas\n",
    "map_2 = Map(location=[40.428990,-3.681209],zoom_start=15)"
   ]
  },
  {
   "cell_type": "code",
   "execution_count": 25,
   "metadata": {},
   "outputs": [
    {
     "ename": "SyntaxError",
     "evalue": "invalid syntax (<ipython-input-25-e2b8008da6bc>, line 5)",
     "output_type": "error",
     "traceback": [
      "\u001b[1;36m  File \u001b[1;32m\"<ipython-input-25-e2b8008da6bc>\"\u001b[1;36m, line \u001b[1;32m5\u001b[0m\n\u001b[1;33m    \"tooltip\" : [row[\"distrito\"]]\u001b[0m\n\u001b[1;37m              ^\u001b[0m\n\u001b[1;31mSyntaxError\u001b[0m\u001b[1;31m:\u001b[0m invalid syntax\n"
     ]
    }
   ],
   "source": [
    "for i,row in df_2019.iterrows():\n",
    "    #popup distrito \n",
    "    distrito = {\n",
    "        \"location\" : [row[\"lat\"], [row[\"long\"]],\n",
    "        \"tooltip\" : [row[\"distrito\"]]\n",
    "    }\n",
    "    \n",
    "    if row[\"festividad\"] == \"Festivo\":\n",
    "        icon = Icon( color = \"green\",\n",
    "                   prefix = \"fa\",\n",
    "                   icon = \"glass\",\n",
    "                   icon_color = \"black\"\n",
    "        )\n",
    "    elif row[\"festividad\"] == \"Vispera\":\n",
    "        icon = Icon( color = \"blue\",\n",
    "                   prefix = \"fa\",\n",
    "                   icon = \"home\",\n",
    "                   icon_color = \"black\" \n",
    "        )\n",
    "     elif:\n",
    "        icon = Icon( color = \"red\",\n",
    "                   prefix = \"fa\",\n",
    "                   icon = \"briefcase\",\n",
    "                   icon_color = \"black\"\n",
    "        )\n",
    "                      \n",
    "    Marker(**distrito, icon = icon).add_to(map_2)"
   ]
  },
  {
   "cell_type": "code",
   "execution_count": null,
   "metadata": {},
   "outputs": [],
   "source": [
    "# no lo imprimas porque peta\n",
    "#map_2"
   ]
  },
  {
   "cell_type": "markdown",
   "metadata": {},
   "source": [
    "¿Es el mejor modo de visualizar esto? Hemos creado un mapa con infinitos Markers...mazo de markers...pero ¿Hay otro modo de visualizar esta información un poquito mejor?\n",
    "Cuando tenemos muchos datos agrupados 🗺"
   ]
  },
  {
   "cell_type": "markdown",
   "metadata": {},
   "source": [
    "### Mapa de Calor"
   ]
  },
  {
   "cell_type": "markdown",
   "metadata": {},
   "source": [
    "Vamos a comprobar cuántas categorías hay en la columna de horario, para hacer un mapa de calor. Primero hacemos un mapa con el horario de mañana, y después añadimos el horario de tarde con el Layer Control. \n",
    "Allá vamos 🔥"
   ]
  },
  {
   "cell_type": "code",
   "execution_count": 26,
   "metadata": {},
   "outputs": [
    {
     "data": {
      "text/plain": [
       "array(['Tarde', 'Noche', 'Mañana'], dtype=object)"
      ]
     },
     "execution_count": 26,
     "metadata": {},
     "output_type": "execute_result"
    }
   ],
   "source": [
    "df.horario.unique()"
   ]
  },
  {
   "cell_type": "code",
   "execution_count": 27,
   "metadata": {},
   "outputs": [],
   "source": [
    "map_3 = Map(location=[40.428990,-3.681209],zoom_start=15)"
   ]
  },
  {
   "cell_type": "code",
   "execution_count": 30,
   "metadata": {},
   "outputs": [
    {
     "data": {
      "text/html": [
       "<div style=\"width:100%;\"><div style=\"position:relative;width:100%;height:0;padding-bottom:60%;\"><span style=\"color:#565656\">Make this Notebook Trusted to load map: File -> Trust Notebook</span><iframe src=\"about:blank\" style=\"position:absolute;width:100%;height:100%;left:0;top:0;border:none !important;\" data-html=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 onload=\"this.contentDocument.open();this.contentDocument.write(atob(this.getAttribute('data-html')));this.contentDocument.close();\" allowfullscreen webkitallowfullscreen mozallowfullscreen></iframe></div></div>"
      ],
      "text/plain": [
       "<folium.folium.Map at 0x2d36c37a970>"
      ]
     },
     "execution_count": 30,
     "metadata": {},
     "output_type": "execute_result"
    }
   ],
   "source": [
    "morning = df[df.horario == \"Mañana\"]\n",
    "morning_group = folium.FeatureGroup(name = \"Mañana\")\n",
    "HeatMap(data = morning[[\"lat\", \"lon\"]], radius = 15).add_to(morning_group)\n",
    "morning_group.add_to(map_3)\n",
    "map_3"
   ]
  },
  {
   "cell_type": "code",
   "execution_count": 31,
   "metadata": {},
   "outputs": [
    {
     "data": {
      "text/html": [
       "<div>\n",
       "<style scoped>\n",
       "    .dataframe tbody tr th:only-of-type {\n",
       "        vertical-align: middle;\n",
       "    }\n",
       "\n",
       "    .dataframe tbody tr th {\n",
       "        vertical-align: top;\n",
       "    }\n",
       "\n",
       "    .dataframe thead th {\n",
       "        text-align: right;\n",
       "    }\n",
       "</style>\n",
       "<table border=\"1\" class=\"dataframe\">\n",
       "  <thead>\n",
       "    <tr style=\"text-align: right;\">\n",
       "      <th></th>\n",
       "      <th>fecha</th>\n",
       "      <th>dia</th>\n",
       "      <th>year</th>\n",
       "      <th>horario</th>\n",
       "      <th>festividad</th>\n",
       "      <th>tipo_accidente</th>\n",
       "      <th>lesividad</th>\n",
       "      <th>meteo</th>\n",
       "      <th>distrito</th>\n",
       "      <th>direccion</th>\n",
       "      <th>lon</th>\n",
       "      <th>lat</th>\n",
       "    </tr>\n",
       "  </thead>\n",
       "  <tbody>\n",
       "    <tr>\n",
       "      <th>0</th>\n",
       "      <td>2019-01-01 14:00:00</td>\n",
       "      <td>2019-01-01 00:00:00</td>\n",
       "      <td>2019</td>\n",
       "      <td>Tarde</td>\n",
       "      <td>Festivo</td>\n",
       "      <td>Colision</td>\n",
       "      <td>Moderada</td>\n",
       "      <td>Despejado</td>\n",
       "      <td>SALAMANCA</td>\n",
       "      <td>CALLE CASTELLO / CALLE DON RAMON DE LA CRUZ Ma...</td>\n",
       "      <td>-3.681209</td>\n",
       "      <td>40.428990</td>\n",
       "    </tr>\n",
       "    <tr>\n",
       "      <th>2</th>\n",
       "      <td>2019-01-03 14:00:00</td>\n",
       "      <td>2019-01-03 00:00:00</td>\n",
       "      <td>2019</td>\n",
       "      <td>Tarde</td>\n",
       "      <td>Laborable</td>\n",
       "      <td>Colision</td>\n",
       "      <td>Leve</td>\n",
       "      <td>Despejado</td>\n",
       "      <td>VILLA DE VALLECAS</td>\n",
       "      <td>CALLE FELIPE ALVAREZ 10 Madrid</td>\n",
       "      <td>-3.623423</td>\n",
       "      <td>40.381971</td>\n",
       "    </tr>\n",
       "    <tr>\n",
       "      <th>3</th>\n",
       "      <td>2019-01-03 13:00:00</td>\n",
       "      <td>2019-01-03 00:00:00</td>\n",
       "      <td>2019</td>\n",
       "      <td>Tarde</td>\n",
       "      <td>Laborable</td>\n",
       "      <td>Colision</td>\n",
       "      <td>Leve</td>\n",
       "      <td>Despejado</td>\n",
       "      <td>VILLA DE VALLECAS</td>\n",
       "      <td>AVDA. SANTA EUGENIA / CALLE REAL DE ARGANDA Ma...</td>\n",
       "      <td>-3.608276</td>\n",
       "      <td>40.377939</td>\n",
       "    </tr>\n",
       "    <tr>\n",
       "      <th>4</th>\n",
       "      <td>2019-01-03 13:00:00</td>\n",
       "      <td>2019-01-03 00:00:00</td>\n",
       "      <td>2019</td>\n",
       "      <td>Tarde</td>\n",
       "      <td>Laborable</td>\n",
       "      <td>Colision</td>\n",
       "      <td>Leve</td>\n",
       "      <td>Despejado</td>\n",
       "      <td>VILLA DE VALLECAS</td>\n",
       "      <td>AVDA. SANTA EUGENIA / CALLE REAL DE ARGANDA Ma...</td>\n",
       "      <td>-3.608276</td>\n",
       "      <td>40.377939</td>\n",
       "    </tr>\n",
       "    <tr>\n",
       "      <th>6</th>\n",
       "      <td>2019-01-04 17:00:00</td>\n",
       "      <td>2019-01-04 00:00:00</td>\n",
       "      <td>2019</td>\n",
       "      <td>Tarde</td>\n",
       "      <td>Laborable</td>\n",
       "      <td>Colision</td>\n",
       "      <td>Leve</td>\n",
       "      <td>Despejado</td>\n",
       "      <td>CHAMARTÍN</td>\n",
       "      <td>CALLE PRADILLO 26 Madrid</td>\n",
       "      <td>-3.673358</td>\n",
       "      <td>40.448681</td>\n",
       "    </tr>\n",
       "  </tbody>\n",
       "</table>\n",
       "</div>"
      ],
      "text/plain": [
       "                 fecha                  dia  year horario festividad  \\\n",
       "0  2019-01-01 14:00:00  2019-01-01 00:00:00  2019   Tarde    Festivo   \n",
       "2  2019-01-03 14:00:00  2019-01-03 00:00:00  2019   Tarde  Laborable   \n",
       "3  2019-01-03 13:00:00  2019-01-03 00:00:00  2019   Tarde  Laborable   \n",
       "4  2019-01-03 13:00:00  2019-01-03 00:00:00  2019   Tarde  Laborable   \n",
       "6  2019-01-04 17:00:00  2019-01-04 00:00:00  2019   Tarde  Laborable   \n",
       "\n",
       "  tipo_accidente lesividad      meteo           distrito  \\\n",
       "0       Colision  Moderada  Despejado          SALAMANCA   \n",
       "2       Colision      Leve  Despejado  VILLA DE VALLECAS   \n",
       "3       Colision      Leve  Despejado  VILLA DE VALLECAS   \n",
       "4       Colision      Leve  Despejado  VILLA DE VALLECAS   \n",
       "6       Colision      Leve  Despejado          CHAMARTÍN   \n",
       "\n",
       "                                           direccion       lon        lat  \n",
       "0  CALLE CASTELLO / CALLE DON RAMON DE LA CRUZ Ma... -3.681209  40.428990  \n",
       "2                     CALLE FELIPE ALVAREZ 10 Madrid -3.623423  40.381971  \n",
       "3  AVDA. SANTA EUGENIA / CALLE REAL DE ARGANDA Ma... -3.608276  40.377939  \n",
       "4  AVDA. SANTA EUGENIA / CALLE REAL DE ARGANDA Ma... -3.608276  40.377939  \n",
       "6                           CALLE PRADILLO 26 Madrid -3.673358  40.448681  "
      ]
     },
     "execution_count": 31,
     "metadata": {},
     "output_type": "execute_result"
    }
   ],
   "source": [
    "tarde = df[df.horario == \"Tarde\"]\n",
    "tarde.head()"
   ]
  },
  {
   "cell_type": "code",
   "execution_count": 32,
   "metadata": {
    "scrolled": true
   },
   "outputs": [
    {
     "data": {
      "text/html": [
       "<div style=\"width:100%;\"><div style=\"position:relative;width:100%;height:0;padding-bottom:60%;\"><span style=\"color:#565656\">Make this Notebook Trusted to load map: File -> Trust Notebook</span><iframe src=\"about:blank\" style=\"position:absolute;width:100%;height:100%;left:0;top:0;border:none !important;\" data-html=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 onload=\"this.contentDocument.open();this.contentDocument.write(atob(this.getAttribute('data-html')));this.contentDocument.close();\" allowfullscreen webkitallowfullscreen mozallowfullscreen></iframe></div></div>"
      ],
      "text/plain": [
       "<folium.folium.Map at 0x2d36c37a970>"
      ]
     },
     "execution_count": 32,
     "metadata": {},
     "output_type": "execute_result"
    }
   ],
   "source": [
    "tarde_group = folium.FeatureGroup( name = \"Tarde\")\n",
    "HeatMap(data = tarde[[\"lat\", \"lon\"]], radius = 15).add_to(tarde_group)\n",
    "tarde_group.add_to(map_3)\n",
    "folium.LayerControl(collapsed = False).add_to(map_3)\n",
    "map_3"
   ]
  },
  {
   "cell_type": "code",
   "execution_count": null,
   "metadata": {},
   "outputs": [],
   "source": [
    "# podemos guardar el mapa en donde queremos\n",
    "map_3.save('data/primerito_mapa')"
   ]
  },
  {
   "cell_type": "code",
   "execution_count": null,
   "metadata": {},
   "outputs": [],
   "source": [
    "# Mini ejercicio --> Crear un mapa"
   ]
  },
  {
   "cell_type": "code",
   "execution_count": 34,
   "metadata": {},
   "outputs": [
    {
     "data": {
      "text/html": [
       "<div style=\"width:100%;\"><div style=\"position:relative;width:100%;height:0;padding-bottom:60%;\"><span style=\"color:#565656\">Make this Notebook Trusted to load map: File -> Trust Notebook</span><iframe src=\"about:blank\" style=\"position:absolute;width:100%;height:100%;left:0;top:0;border:none !important;\" data-html=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 onload=\"this.contentDocument.open();this.contentDocument.write(atob(this.getAttribute('data-html')));this.contentDocument.close();\" allowfullscreen webkitallowfullscreen mozallowfullscreen></iframe></div></div>"
      ],
      "text/plain": [
       "<folium.folium.Map at 0x2d36c63a3a0>"
      ]
     },
     "execution_count": 34,
     "metadata": {},
     "output_type": "execute_result"
    }
   ],
   "source": [
    "ubica = Map(location=[40.4969434,-3.7125211],zoom_start=15)\n",
    "ubica"
   ]
  },
  {
   "cell_type": "code",
   "execution_count": 36,
   "metadata": {},
   "outputs": [
    {
     "data": {
      "text/html": [
       "<div style=\"width:100%;\"><div style=\"position:relative;width:100%;height:0;padding-bottom:60%;\"><span style=\"color:#565656\">Make this Notebook Trusted to load map: File -> Trust Notebook</span><iframe src=\"about:blank\" style=\"position:absolute;width:100%;height:100%;left:0;top:0;border:none !important;\" data-html=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 onload=\"this.contentDocument.open();this.contentDocument.write(atob(this.getAttribute('data-html')));this.contentDocument.close();\" allowfullscreen webkitallowfullscreen mozallowfullscreen></iframe></div></div>"
      ],
      "text/plain": [
       "<folium.folium.Map at 0x2d36c63a3a0>"
      ]
     },
     "execution_count": 36,
     "metadata": {},
     "output_type": "execute_result"
    }
   ],
   "source": [
    "casa = Marker(location = [40.4787347,-3.7179398], tooltip = \"Home\")\n",
    "casa.add_to(ubica)\n",
    "ubica"
   ]
  },
  {
   "cell_type": "code",
   "execution_count": null,
   "metadata": {},
   "outputs": [],
   "source": [
    "icono = Icon( color = \"yellow\",\n",
    "             prefix = \"fa\",        # si no pones este comando no sale el icono\n",
    "             icon = \"paw\",\n",
    "             icon_color = \"black\"\n",
    "\n",
    "\n",
    ")\n",
    "loc = [lavapi_lat, lavapi_long]"
   ]
  },
  {
   "cell_type": "code",
   "execution_count": null,
   "metadata": {},
   "outputs": [],
   "source": []
  },
  {
   "cell_type": "code",
   "execution_count": null,
   "metadata": {},
   "outputs": [],
   "source": []
  },
  {
   "cell_type": "code",
   "execution_count": null,
   "metadata": {},
   "outputs": [],
   "source": []
  },
  {
   "cell_type": "code",
   "execution_count": 19,
   "metadata": {},
   "outputs": [],
   "source": [
    "map_3.save('data/primerito_mapa')"
   ]
  }
 ],
 "metadata": {
  "kernelspec": {
   "display_name": "Python 3",
   "language": "python",
   "name": "python3"
  },
  "language_info": {
   "codemirror_mode": {
    "name": "ipython",
    "version": 3
   },
   "file_extension": ".py",
   "mimetype": "text/x-python",
   "name": "python",
   "nbconvert_exporter": "python",
   "pygments_lexer": "ipython3",
   "version": "3.8.3"
  }
 },
 "nbformat": 4,
 "nbformat_minor": 4
}
